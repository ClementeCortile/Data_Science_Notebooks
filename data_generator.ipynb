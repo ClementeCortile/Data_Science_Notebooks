{
 "cells": [
  {
   "cell_type": "code",
   "execution_count": 1,
   "metadata": {
    "pycharm": {
     "is_executing": false,
     "metadata": false,
     "name": "#%%\n"
    }
   },
   "outputs": [],
   "source": [
    "\n",
    "# Imports\n",
    "import numpy as np\n",
    "import pandas as pd\n",
    "import random\n",
    "import seaborn as sns\n",
    "import matplotlib.pyplot as plt\n",
    "\n"
   ]
  },
  {
   "cell_type": "code",
   "execution_count": 4,
   "metadata": {
    "pycharm": {
     "is_executing": false,
     "metadata": false,
     "name": "#%%\n"
    }
   },
   "outputs": [],
   "source": [
    "# Custom class\n",
    "\n",
    "class Kinematics(object):\n",
    "    \n",
    "    #Class constructor initialization\n",
    "    def __init__(self, d=0, a=0, t=1):\n",
    "        self.d = d\n",
    "        self.a = a\n",
    "        self.t = t\n",
    "    \n",
    "    #Class methods\n",
    "    def ffvel(self) -> int:\n",
    "        \"\"\"\n",
    "        FreeFall velocity\n",
    "        input distance, acceleration and time of the fall\n",
    "        returns velocity at time t\n",
    "        \"\"\"\n",
    "        v = ((self.d) - (0.5 * self.a * self.t ** 2)) / self.t\n",
    "        return v"
   ]
  },
  {
   "cell_type": "code",
   "execution_count": 6,
   "metadata": {
    "pycharm": {
     "is_executing": false,
     "metadata": false,
     "name": "#%%\n"
    }
   },
   "outputs": [],
   "source": [
    "# Generating artificial dataset\n",
    "\n",
    "#Declaring number of runs\n",
    "runs = 3000000\n",
    "\n",
    "#Initializing random variables distance and acceleration\n",
    "d = []\n",
    "a = []\n",
    "\n",
    "#Filling random variables\n",
    "for i in range(0, runs):\n",
    "    d.append(abs(int(np.random.randn(1, 1) * 100)))\n",
    "    a.append(abs(int(np.random.randn(1, 1) * 100)))\n",
    "\n",
    "#Initializing time variable\n",
    "t = []\n",
    "\n",
    "#Filling time variable\n",
    "for i in range(0, (runs)):\n",
    "    temp = (random.randint(1, 101))\n",
    "    if temp != 0:\n",
    "        t.append(temp)\n",
    "\n",
    "#Initializing dictionary for dataframe conversion\n",
    "di = {'distance': d,\n",
    "      'acceleration': a,\n",
    "      'time': t}\n",
    "df = pd.DataFrame(di)\n",
    "\n",
    "#Initializing empty velocity vector\n",
    "v = []\n",
    "#Filling velocity vector using Kinematic's class method\n",
    "for i in range(0, runs):\n",
    "    one = Kinematics(d=d[i], a=a[i], t=t[i])\n",
    "    v.append(-(one.ffvel()))\n",
    "\n",
    "df['velocity'] = v\n"
   ]
  },
  {
   "cell_type": "code",
   "execution_count": null,
   "metadata": {
    "pycharm": {
     "metadata": false,
     "name": "#%%\n"
    }
   },
   "outputs": [],
   "source": [
    "# Preprocessing Artificial Dataset\n",
    "\n",
    "#sns.pairplot(data=df)\n",
    "#plt.show()\n"
   ]
  },
  {
   "cell_type": "code",
   "execution_count": null,
   "metadata": {
    "pycharm": {
     "is_executing": false,
     "metadata": false,
     "name": "#%%\n"
    }
   },
   "outputs": [],
   "source": [
    "len(df)\n",
    "\n",
    "plt.savefig('utl/data.png')\n",
    "df.to_pickle('utl/kvelocity.pkl')\n",
    "\n"
   ]
  },
  {
   "cell_type": "code",
   "execution_count": null,
   "metadata": {},
   "outputs": [],
   "source": []
  }
 ],
 "metadata": {
  "kernelspec": {
   "display_name": "Python 3",
   "language": "python",
   "name": "python3"
  },
  "language_info": {
   "codemirror_mode": {
    "name": "ipython",
    "version": 3
   },
   "file_extension": ".py",
   "mimetype": "text/x-python",
   "name": "python",
   "nbconvert_exporter": "python",
   "pygments_lexer": "ipython3",
   "version": "3.7.2"
  },
  "pycharm": {
   "stem_cell": {
    "cell_type": "raw",
    "metadata": {
     "collapsed": false
    },
    "source": []
   }
  },
  "stem_cell": {
   "cell_type": "raw",
   "metadata": {
    "pycharm": {
     "metadata": false
    }
   },
   "source": ""
  }
 },
 "nbformat": 4,
 "nbformat_minor": 1
}
