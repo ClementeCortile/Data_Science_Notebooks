{
 "cells": [
  {
   "cell_type": "markdown",
   "metadata": {
    "pycharm": {}
   },
   "source": [
    "## Coding Challange - Clemente Cortile"
   ]
  },
  {
   "cell_type": "markdown",
   "metadata": {
    "pycharm": {}
   },
   "source": [
    "## INDEX\n",
    "<a id=\"Index\"></a>\n",
    " ###   <left>QUESTION 1 </left><p>\n",
    "<left><font size=\"+2\"><a href=\"#Data Preparation\">Data Preparation</a></font></left><p>\n",
    "<left><font size=\"+2\"><a href=\"#Data Exploration\">Exploration & Descriptive Statistics</a></font></left><p>\n",
    "<left><font size=\"+2\"><a href=\"#A1\">Equation Model</a></font></left><p>\n",
    "<left><font size=\"+2\"><a href=\"#A1\">Testing Model</a></font></left><p>\n",
    "<left><font size=\"+2\"><a href=\"#AltSol\">SVM Alternative Solution</a></font></left><p><br>\n",
    "### <left>QUESTION 2 </left><p>   \n",
    "<left><font size=\"+2\"><a href=\"#Q2\">Data Preparation</a></font></left><p>\n",
    "<left><font size=\"+2\"><a href=\"#DS2\">Descriptive Stats and Visuals</a></font></left><p>\n",
    "<left><font size=\"+2\"><a href=\"#FEPR\">Feature Engineering</a></font></left><p>\n",
    "<left><font size=\"+2\"><a href=\"#FEPR\">Polynomial Regression - Scypy</a></font></left><p>\n",
    "<left><font size=\"+2\"><a href=\"#M2\">Modeling - Scikit Learn Pipeline</a></font></left><p>\n",
    "<left><font size=\"+2\"><a href=\"#RES\">Models Results - Benchmarks and Visuals</a></font></left><p>\n",
    "<left><font size=\"+2\"><a href=\"#CNC\">Conclusions</a></font></left><p>\n",
    "\n"
   ]
  },
  {
   "cell_type": "markdown",
   "metadata": {
    "pycharm": {
     "is_executing": false,
     "name": "#%% md\n"
    }
   },
   "source": [
    "#### Question 1:\n",
    "Given are two groups of 2-dimensional (x,y) coordinates.\n",
    "\n",
    "group1 = [[0.067, 0.21], [0.092, 0.21], \n",
    "  [0.294, 0.445], [0.227, 0.521], [0.185, 0.597], \n",
    "  [0.185, 0.689], [0.235, 0.748], [0.319, 0.773], \n",
    "  [0.387, 0.739], [0.437, 0.672], [0.496, 0.739],\n",
    "  [0.571, 0.773], [0.639, 0.765], [0.765, 0.924],\n",
    "  [0.807, 0.933], [0.849, 0.941]]\n",
    "\n",
    "group2 = [[0.118, 0.143], [0.118, 0.176], \n",
    "  [0.345, 0.378], [0.395, 0.319], [0.437, 0.261],\n",
    "  [0.496, 0.328], [0.546, 0.395], [0.605, 0.462],\n",
    "  [0.655, 0.529], [0.697, 0.597], [0.706, 0.664],\n",
    "  [0.681, 0.723], [0.849, 0.798], [0.857, 0.849],\n",
    "  [0.866, 0.899]]\n",
    "\n",
    "Please determine an equation for a linear separator for these two groups of points. "
   ]
  },
  {
   "cell_type": "code",
   "execution_count": 4,
   "metadata": {
    "pycharm": {
     "is_executing": false,
     "metadata": false,
     "name": "#%%\n"
    }
   },
   "outputs": [],
   "source": [
    "#Importing Libraries and Global settings\n",
    "import numpy as np\n",
    "import pandas as pd\n",
    "import seaborn as sns\n",
    "import matplotlib.pyplot as plt\n",
    "import math\n",
    "from scipy import stats\n",
    "sns.set(rc={'figure.figsize':(11.7,8.27)})\n",
    "import warnings\n",
    "warnings.simplefilter('ignore', np.RankWarning)\n",
    "\n",
    "import timeit\n",
    "from sklearn.svm import SVR\n",
    "from sklearn.model_selection import train_test_split\n",
    "from sklearn.metrics import classification_report\n",
    "from sklearn.metrics import r2_score\n",
    "from sklearn.linear_model import LinearRegression\n",
    "from sklearn.linear_model import ElasticNet\n",
    "from sklearn.ensemble import RandomForestRegressor\n",
    "from sklearn.svm import LinearSVR\n",
    "from sklearn.svm import SVR\n",
    "from sklearn.neighbors import KNeighborsRegressor\n",
    "\n",
    "from sklearn.pipeline import Pipeline\n",
    "from sklearn.preprocessing import StandardScaler\n",
    "from sklearn.feature_extraction.text import CountVectorizer, TfidfTransformer\n",
    "from sklearn.model_selection import train_test_split\n",
    "from sklearn.svm import LinearSVC\n",
    "from sklearn.pipeline import make_pipeline\n",
    "from sklearn.naive_bayes import MultinomialNB\n",
    "from sklearn.preprocessing import Binarizer\n",
    "\n",
    "#NB: All custom functions are imported in the cells below for contextual purposes"
   ]
  },
  {
   "cell_type": "markdown",
   "metadata": {
    "pycharm": {
     "is_executing": false,
     "metadata": false,
     "name": "#%% md\n"
    }
   },
   "source": [
    "<a id=\"Data Preparation\"></a>\n",
    "<div style=\"text-align: right\"> <a href=\"#Index\">Back to Index</a> </div>"
   ]
  },
  {
   "cell_type": "markdown",
   "metadata": {
    "pycharm": {}
   },
   "source": [
    "#### Data Preparation - Reshaping the data into a dataframe "
   ]
  },
  {
   "cell_type": "code",
   "execution_count": 5,
   "metadata": {
    "pycharm": {
     "is_executing": false,
     "metadata": false,
     "name": "#%%\n"
    }
   },
   "outputs": [],
   "source": [
    "#Assigning the data to list of lists\n",
    "group1 = [[0.067, 0.21], [0.092, 0.21], \n",
    "  [0.294, 0.445], [0.227, 0.521], [0.185, 0.597], \n",
    "  [0.185, 0.689], [0.235, 0.748], [0.319, 0.773], \n",
    "  [0.387, 0.739], [0.437, 0.672], [0.496, 0.739],\n",
    "  [0.571, 0.773], [0.639, 0.765], [0.765, 0.924],\n",
    "  [0.807, 0.933], [0.849, 0.941]]\n",
    "\n",
    "group2 = [[0.118, 0.143], [0.118, 0.176], \n",
    "  [0.345, 0.378], [0.395, 0.319], [0.437, 0.261],\n",
    "  [0.496, 0.328], [0.546, 0.395], [0.605, 0.462],\n",
    "  [0.655, 0.529], [0.697, 0.597], [0.706, 0.664],\n",
    "  [0.681, 0.723], [0.849, 0.798], [0.857, 0.849],\n",
    "  [0.866, 0.899]]\n"
   ]
  },
  {
   "cell_type": "code",
   "execution_count": 6,
   "metadata": {
    "pycharm": {
     "is_executing": false,
     "metadata": false,
     "name": "#%%\n"
    }
   },
   "outputs": [],
   "source": [
    "#Converting the lists to dataframes using pandas constructors\n",
    "g1 = pd.DataFrame(group1)\n",
    "g2 = pd.DataFrame(group2)\n",
    "#Encoding group information in a new column\n",
    "g1['group'] = 'group 1'\n",
    "g2['group'] = 'group 2'\n",
    "\n",
    "None"
   ]
  },
  {
   "cell_type": "code",
   "execution_count": 7,
   "metadata": {
    "pycharm": {
     "is_executing": false,
     "metadata": false,
     "name": "#%%\n"
    }
   },
   "outputs": [],
   "source": [
    "#Concatenating the dataframes vertically\n",
    "df = pd.DataFrame() # Declaring the dataframe to clean the memory on cell's reruns\n",
    "df = pd.concat([g1, g2]).reset_index(drop=True)\n",
    "#Renaming columns to coordinates\n",
    "df = df.rename(columns={0:'X',1:'Y'})\n",
    "#Keeping the extra dataframes to avoid using groupby statements\n",
    "g1 = g1.rename(columns={0:'X',1:'Y'})\n",
    "g2 = g2.rename(columns={0:'X',1:'Y'})\n",
    "None"
   ]
  },
  {
   "cell_type": "markdown",
   "metadata": {
    "pycharm": {
     "metadata": false,
     "name": "#%% md\n"
    }
   },
   "source": [
    "##### Notes | Rework Result:\n",
    "Data has been reworked to a \"melted\" format. \n",
    "Row: Coordinates | Columns: Coordinate's infomation [X,Y,group]\n",
    "<a id=\"Data Exploration\"></a>\n",
    "<div style=\"text-align: right\"> <a href=\"#Index\">Back to Index</a> </div>"
   ]
  },
  {
   "cell_type": "markdown",
   "metadata": {
    "pycharm": {
     "metadata": false,
     "name": "#%% md\n"
    }
   },
   "source": [
    "#### Data Exploration "
   ]
  },
  {
   "cell_type": "code",
   "execution_count": 8,
   "metadata": {
    "pycharm": {
     "is_executing": false,
     "metadata": false,
     "name": "#%%\n"
    }
   },
   "outputs": [
    {
     "data": {
      "text/html": [
       "<div>\n",
       "<style scoped>\n",
       "    .dataframe tbody tr th:only-of-type {\n",
       "        vertical-align: middle;\n",
       "    }\n",
       "\n",
       "    .dataframe tbody tr th {\n",
       "        vertical-align: top;\n",
       "    }\n",
       "\n",
       "    .dataframe thead th {\n",
       "        text-align: right;\n",
       "    }\n",
       "</style>\n",
       "<table border=\"1\" class=\"dataframe\">\n",
       "  <thead>\n",
       "    <tr style=\"text-align: right;\">\n",
       "      <th></th>\n",
       "      <th>X</th>\n",
       "      <th>Y</th>\n",
       "      <th>group</th>\n",
       "    </tr>\n",
       "  </thead>\n",
       "  <tbody>\n",
       "    <tr>\n",
       "      <th>0</th>\n",
       "      <td>0.067</td>\n",
       "      <td>0.210</td>\n",
       "      <td>group 1</td>\n",
       "    </tr>\n",
       "    <tr>\n",
       "      <th>1</th>\n",
       "      <td>0.092</td>\n",
       "      <td>0.210</td>\n",
       "      <td>group 1</td>\n",
       "    </tr>\n",
       "    <tr>\n",
       "      <th>2</th>\n",
       "      <td>0.294</td>\n",
       "      <td>0.445</td>\n",
       "      <td>group 1</td>\n",
       "    </tr>\n",
       "    <tr>\n",
       "      <th>3</th>\n",
       "      <td>0.227</td>\n",
       "      <td>0.521</td>\n",
       "      <td>group 1</td>\n",
       "    </tr>\n",
       "  </tbody>\n",
       "</table>\n",
       "</div>"
      ],
      "text/plain": [
       "       X      Y    group\n",
       "0  0.067  0.210  group 1\n",
       "1  0.092  0.210  group 1\n",
       "2  0.294  0.445  group 1\n",
       "3  0.227  0.521  group 1"
      ]
     },
     "execution_count": 8,
     "metadata": {},
     "output_type": "execute_result"
    }
   ],
   "source": [
    "#A quick check for data integrity\n",
    "df.head(4)"
   ]
  },
  {
   "cell_type": "code",
   "execution_count": 9,
   "metadata": {
    "pycharm": {
     "is_executing": false,
     "metadata": false,
     "name": "#%%\n"
    }
   },
   "outputs": [
    {
     "data": {
      "text/html": [
       "<div>\n",
       "<style scoped>\n",
       "    .dataframe tbody tr th:only-of-type {\n",
       "        vertical-align: middle;\n",
       "    }\n",
       "\n",
       "    .dataframe tbody tr th {\n",
       "        vertical-align: top;\n",
       "    }\n",
       "\n",
       "    .dataframe thead th {\n",
       "        text-align: right;\n",
       "    }\n",
       "</style>\n",
       "<table border=\"1\" class=\"dataframe\">\n",
       "  <thead>\n",
       "    <tr style=\"text-align: right;\">\n",
       "      <th></th>\n",
       "      <th>X</th>\n",
       "      <th>Y</th>\n",
       "      <th>group</th>\n",
       "    </tr>\n",
       "  </thead>\n",
       "  <tbody>\n",
       "    <tr>\n",
       "      <th>27</th>\n",
       "      <td>0.681</td>\n",
       "      <td>0.723</td>\n",
       "      <td>group 2</td>\n",
       "    </tr>\n",
       "    <tr>\n",
       "      <th>28</th>\n",
       "      <td>0.849</td>\n",
       "      <td>0.798</td>\n",
       "      <td>group 2</td>\n",
       "    </tr>\n",
       "    <tr>\n",
       "      <th>29</th>\n",
       "      <td>0.857</td>\n",
       "      <td>0.849</td>\n",
       "      <td>group 2</td>\n",
       "    </tr>\n",
       "    <tr>\n",
       "      <th>30</th>\n",
       "      <td>0.866</td>\n",
       "      <td>0.899</td>\n",
       "      <td>group 2</td>\n",
       "    </tr>\n",
       "  </tbody>\n",
       "</table>\n",
       "</div>"
      ],
      "text/plain": [
       "        X      Y    group\n",
       "27  0.681  0.723  group 2\n",
       "28  0.849  0.798  group 2\n",
       "29  0.857  0.849  group 2\n",
       "30  0.866  0.899  group 2"
      ]
     },
     "execution_count": 9,
     "metadata": {},
     "output_type": "execute_result"
    }
   ],
   "source": [
    "df.tail(4)"
   ]
  },
  {
   "cell_type": "code",
   "execution_count": 10,
   "metadata": {
    "pycharm": {
     "is_executing": false,
     "metadata": false,
     "name": "#%%\n"
    }
   },
   "outputs": [
    {
     "name": "stdout",
     "output_type": "stream",
     "text": [
      "<class 'pandas.core.frame.DataFrame'>\n",
      "RangeIndex: 31 entries, 0 to 30\n",
      "Data columns (total 3 columns):\n",
      "X        31 non-null float64\n",
      "Y        31 non-null float64\n",
      "group    31 non-null object\n",
      "dtypes: float64(2), object(1)\n",
      "memory usage: 824.0+ bytes\n"
     ]
    },
    {
     "data": {
      "text/html": [
       "<div>\n",
       "<style scoped>\n",
       "    .dataframe tbody tr th:only-of-type {\n",
       "        vertical-align: middle;\n",
       "    }\n",
       "\n",
       "    .dataframe tbody tr th {\n",
       "        vertical-align: top;\n",
       "    }\n",
       "\n",
       "    .dataframe thead th {\n",
       "        text-align: right;\n",
       "    }\n",
       "</style>\n",
       "<table border=\"1\" class=\"dataframe\">\n",
       "  <thead>\n",
       "    <tr style=\"text-align: right;\">\n",
       "      <th></th>\n",
       "      <th>X</th>\n",
       "      <th>Y</th>\n",
       "    </tr>\n",
       "  </thead>\n",
       "  <tbody>\n",
       "    <tr>\n",
       "      <th>count</th>\n",
       "      <td>16.000000</td>\n",
       "      <td>16.000000</td>\n",
       "    </tr>\n",
       "    <tr>\n",
       "      <th>mean</th>\n",
       "      <td>0.409687</td>\n",
       "      <td>0.667437</td>\n",
       "    </tr>\n",
       "    <tr>\n",
       "      <th>std</th>\n",
       "      <td>0.254197</td>\n",
       "      <td>0.224290</td>\n",
       "    </tr>\n",
       "    <tr>\n",
       "      <th>min</th>\n",
       "      <td>0.067000</td>\n",
       "      <td>0.210000</td>\n",
       "    </tr>\n",
       "    <tr>\n",
       "      <th>25%</th>\n",
       "      <td>0.216500</td>\n",
       "      <td>0.578000</td>\n",
       "    </tr>\n",
       "    <tr>\n",
       "      <th>50%</th>\n",
       "      <td>0.353000</td>\n",
       "      <td>0.739000</td>\n",
       "    </tr>\n",
       "    <tr>\n",
       "      <th>75%</th>\n",
       "      <td>0.588000</td>\n",
       "      <td>0.773000</td>\n",
       "    </tr>\n",
       "    <tr>\n",
       "      <th>max</th>\n",
       "      <td>0.849000</td>\n",
       "      <td>0.941000</td>\n",
       "    </tr>\n",
       "  </tbody>\n",
       "</table>\n",
       "</div>"
      ],
      "text/plain": [
       "               X          Y\n",
       "count  16.000000  16.000000\n",
       "mean    0.409687   0.667437\n",
       "std     0.254197   0.224290\n",
       "min     0.067000   0.210000\n",
       "25%     0.216500   0.578000\n",
       "50%     0.353000   0.739000\n",
       "75%     0.588000   0.773000\n",
       "max     0.849000   0.941000"
      ]
     },
     "execution_count": 10,
     "metadata": {},
     "output_type": "execute_result"
    }
   ],
   "source": [
    "df.info()\n",
    "#Descriptive statistics for the groups\n",
    "g1.describe()"
   ]
  },
  {
   "cell_type": "code",
   "execution_count": 11,
   "metadata": {
    "pycharm": {
     "is_executing": false,
     "metadata": false,
     "name": "#%%\n"
    }
   },
   "outputs": [
    {
     "data": {
      "text/html": [
       "<div>\n",
       "<style scoped>\n",
       "    .dataframe tbody tr th:only-of-type {\n",
       "        vertical-align: middle;\n",
       "    }\n",
       "\n",
       "    .dataframe tbody tr th {\n",
       "        vertical-align: top;\n",
       "    }\n",
       "\n",
       "    .dataframe thead th {\n",
       "        text-align: right;\n",
       "    }\n",
       "</style>\n",
       "<table border=\"1\" class=\"dataframe\">\n",
       "  <thead>\n",
       "    <tr style=\"text-align: right;\">\n",
       "      <th></th>\n",
       "      <th>X</th>\n",
       "      <th>Y</th>\n",
       "    </tr>\n",
       "  </thead>\n",
       "  <tbody>\n",
       "    <tr>\n",
       "      <th>count</th>\n",
       "      <td>15.000000</td>\n",
       "      <td>15.00000</td>\n",
       "    </tr>\n",
       "    <tr>\n",
       "      <th>mean</th>\n",
       "      <td>0.558067</td>\n",
       "      <td>0.50140</td>\n",
       "    </tr>\n",
       "    <tr>\n",
       "      <th>std</th>\n",
       "      <td>0.241230</td>\n",
       "      <td>0.24435</td>\n",
       "    </tr>\n",
       "    <tr>\n",
       "      <th>min</th>\n",
       "      <td>0.118000</td>\n",
       "      <td>0.14300</td>\n",
       "    </tr>\n",
       "    <tr>\n",
       "      <th>25%</th>\n",
       "      <td>0.416000</td>\n",
       "      <td>0.32350</td>\n",
       "    </tr>\n",
       "    <tr>\n",
       "      <th>50%</th>\n",
       "      <td>0.605000</td>\n",
       "      <td>0.46200</td>\n",
       "    </tr>\n",
       "    <tr>\n",
       "      <th>75%</th>\n",
       "      <td>0.701500</td>\n",
       "      <td>0.69350</td>\n",
       "    </tr>\n",
       "    <tr>\n",
       "      <th>max</th>\n",
       "      <td>0.866000</td>\n",
       "      <td>0.89900</td>\n",
       "    </tr>\n",
       "  </tbody>\n",
       "</table>\n",
       "</div>"
      ],
      "text/plain": [
       "               X         Y\n",
       "count  15.000000  15.00000\n",
       "mean    0.558067   0.50140\n",
       "std     0.241230   0.24435\n",
       "min     0.118000   0.14300\n",
       "25%     0.416000   0.32350\n",
       "50%     0.605000   0.46200\n",
       "75%     0.701500   0.69350\n",
       "max     0.866000   0.89900"
      ]
     },
     "execution_count": 11,
     "metadata": {},
     "output_type": "execute_result"
    }
   ],
   "source": [
    "g2.describe()"
   ]
  },
  {
   "cell_type": "markdown",
   "metadata": {
    "pycharm": {
     "metadata": false,
     "name": "#%% md\n"
    }
   },
   "source": [
    "##### Notes | Descriptive Stats:\n",
    "Lenght is not the same. Different means, same standard deviation.\n",
    "<a id=\"Vis\"></a>\n",
    "<div style=\"text-align: right\"> <a href=\"#Index\">Back to Index</a> </div>"
   ]
  },
  {
   "cell_type": "markdown",
   "metadata": {
    "pycharm": {
     "is_executing": false,
     "metadata": false,
     "name": "#%% md\n"
    }
   },
   "source": [
    "#### Visualizing the data and plotting a line"
   ]
  },
  {
   "cell_type": "code",
   "execution_count": 12,
   "metadata": {
    "pycharm": {
     "is_executing": false,
     "metadata": false,
     "name": "#%%\n"
    }
   },
   "outputs": [
    {
     "data": {
      "image/png": "[encoded data removed]",
      "text/plain": [
       "<Figure size 432x288 with 1 Axes>"
      ]
     },
     "metadata": {
      "needs_background": "light"
     },
     "output_type": "display_data"
    }
   ],
   "source": [
    "\n",
    "def scatter_line(df: pd.DataFrame, X:str, Y:str, label:str, coord: tuple, angle: int, length: float) -> None:\n",
    "    \"\"\"\n",
    "    Given a dataframe in a melt format [X,Y,Category],\n",
    "    Given a 2D coordinate and a slope\n",
    "    Prints the scatterplot and the line\n",
    "    :param df: scatterplot dataframe\n",
    "    :param X: Dataframe column name\n",
    "    :param Y: Dataframe column name\n",
    "    :param Label: Dataframe column name\n",
    "    :param coord: line origin\n",
    "    :param angle: line slope\n",
    "    :param length: line length\n",
    "    :return: Void\n",
    "    \"\"\"\n",
    "    #Scatterplot to visualize the 2D-coordinates, marking the groups by group type\n",
    "    sns.scatterplot(data=df, x=X,y=Y,hue=label).set_title('Scatterplot')\n",
    "    #Tuple to define origin of a line\n",
    "    #x, y = (0,0.1)\n",
    "    x = coord[0]\n",
    "    y = coord[1]\n",
    "    #Declaring integers to hold the value of the angle and the lenght of the line\n",
    "    #angle = 47\n",
    "    #length = 1.4\n",
    "    # Find the end point\n",
    "    endy = length * math.sin(math.radians(angle))\n",
    "    endx = length * math.cos(math.radians(angle))\n",
    "    # Plot the points\n",
    "    plt.plot([x, endx], [y, endy])\n",
    "    return None\n",
    "#Testing the scatter line function to identify a good separator line\n",
    "scatter_line(df, 'X', 'Y', 'group', (0,0.1), 47, 1.4)\n"
   ]
  },
  {
   "cell_type": "markdown",
   "metadata": {
    "pycharm": {
     "metadata": false,
     "name": "#%% md\n"
    }
   },
   "source": [
    "##### Notes:\n",
    "It looks like the bisector line of the quadrant would be a good separator for the two groups.\n",
    "The Y = X bisector is not perfect for the separation though. Displacing y by +0.1 and adding two degree to the angle\n",
    "creates a line that neatly separates the groups ( The cupid-arrow-like look helps drawing that conclusion).\n",
    "<a id=\"A1\"></a>\n",
    "<div style=\"text-align: right\"> <a href=\"#Index\">Back to Index</a> </div>"
   ]
  },
  {
   "cell_type": "markdown",
   "metadata": {
    "pycharm": {
     "metadata": false,
     "name": "#%% md\n"
    }
   },
   "source": [
    "##### Equation Model | Answer Question 1:\n",
    "Given the point-slope equation form of a line, the equation that separates the group can be:\n",
    "y = 0.47x + 0.1\n"
   ]
  },
  {
   "cell_type": "markdown",
   "metadata": {
    "pycharm": {
     "is_executing": false,
     "metadata": false,
     "name": "#%% md\n"
    }
   },
   "source": [
    "##### Testing the answer with a program:\n",
    "For every X in group 1, the equation will return a Y_pred that will always be smaller than the Y in Group 1 (Y_Group1 - Y_pred > 0)"
   ]
  },
  {
   "cell_type": "code",
   "execution_count": 13,
   "metadata": {
    "pycharm": {
     "is_executing": false,
     "metadata": false,
     "name": "#%%\n"
    }
   },
   "outputs": [
    {
     "name": "stdout",
     "output_type": "stream",
     "text": [
      "All points in group 1 are above the separator line\n"
     ]
    }
   ],
   "source": [
    "\n",
    "def eq_1(x: float) -> float:\n",
    "    \"\"\"\n",
    "    Given x\n",
    "    Returns the solution of the equation y = .47x + .1\n",
    "    :param x: dependent variable \n",
    "    :return: y as the independent variable\n",
    "    \"\"\"\n",
    "    return (0.47*x + 0.1)\n",
    "\n",
    "def line_check(data: pd.DataFrame, target: str, feature: str) -> None:\n",
    "    \"\"\"\n",
    "    Given a dataframe, iterates over the selected columns and applies the eq_1 function\n",
    "    Void return\n",
    "    :param data: pandas dataframe\n",
    "    :param target: column name\n",
    "    :param feature: column name\n",
    "    :return: \n",
    "    \"\"\"\n",
    "\n",
    "    flag = 0\n",
    "    for i in range(0,len(g1)):\n",
    "        if ((data[target][i] - eq_1(data[feature][i])) < 0):\n",
    "            flag = 1\n",
    "            print('ERROR - A point is below the separator line at', i)\n",
    "    if (flag == 0):\n",
    "        print('All points in group 1 are above the separator line')\n",
    "    return None\n",
    "\n",
    "#Performing the checks\n",
    "line_check(g1,'Y','X')\n"
   ]
  },
  {
   "cell_type": "markdown",
   "metadata": {
    "pycharm": {}
   },
   "source": [
    "<a id=\"AltSol\"></a>\n",
    "<div style=\"text-align: right\"> <a href=\"#Index\">Back to Index</a> </div>"
   ]
  },
  {
   "cell_type": "markdown",
   "metadata": {
    "pycharm": {
     "metadata": false,
     "name": "#%% md\n"
    }
   },
   "source": [
    "#### Question 1 - Alternative Solution\n",
    "Support Vector Machine can be used to define a line that separates the two clusters.\n",
    "\n",
    "The Linear Kernel does the best job at separating them as well. Comparing four methods down below:"
   ]
  },
  {
   "cell_type": "code",
   "execution_count": 14,
   "metadata": {
    "pycharm": {
     "is_executing": false,
     "metadata": false,
     "name": "#%%\n"
    }
   },
   "outputs": [
    {
     "data": {
      "text/plain": [
       "SVC(C=1.0, cache_size=200, class_weight=None, coef0=0.0,\n",
       "  decision_function_shape='ovr', degree=3, gamma='scale', kernel='linear',\n",
       "  max_iter=-1, probability=False, random_state=None, shrinking=True,\n",
       "  tol=0.001, verbose=False)"
      ]
     },
     "execution_count": 14,
     "metadata": {},
     "output_type": "execute_result"
    }
   ],
   "source": [
    "from sklearn import svm\n",
    "#Rearranging coordinates as features for the model\n",
    "group_all = group1+group2\n",
    "#Generating labels 0 for group1 and 1 for group 2\n",
    "len_g1 = list(np.zeros(len(group1)))\n",
    "len_g2 = list(np.ones(len(group2)))\n",
    "#Concatenating the labels \n",
    "cat = len_g1 + len_g2\n",
    "\n",
    "#Declaring the model object\n",
    "clf = svm.SVC(gamma='scale', kernel='linear')\n",
    "#Fitting the model\n",
    "clf.fit(group_all, cat) \n"
   ]
  },
  {
   "cell_type": "code",
   "execution_count": 15,
   "metadata": {
    "pycharm": {
     "is_executing": false,
     "metadata": false,
     "name": "#%%\n"
    }
   },
   "outputs": [
    {
     "name": "stderr",
     "output_type": "stream",
     "text": [
      "/home/clemente/anaconda3/envs/galileo/lib/python3.7/site-packages/sklearn/svm/base.py:196: FutureWarning: The default value of gamma will change from 'auto' to 'scale' in version 0.22 to account better for unscaled features. Set gamma explicitly to 'auto' or 'scale' to avoid this warning.\n",
      "  \"avoid this warning.\", FutureWarning)\n"
     ]
    },
    {
     "data": {
      "image/png": "[encoded data removed]",
      "text/plain": [
       "<Figure size 432x288 with 4 Axes>"
      ]
     },
     "metadata": {},
     "output_type": "display_data"
    }
   ],
   "source": [
    "\n",
    "def make_meshgrid(x, y, h=.02):\n",
    "    \"\"\"Create a mesh of points to plot in\n",
    "\n",
    "    Parameters\n",
    "    ----------\n",
    "    x: data to base x-axis meshgrid on\n",
    "    y: data to base y-axis meshgrid on\n",
    "    h: stepsize for meshgrid, optional\n",
    "\n",
    "    Returns\n",
    "    -------\n",
    "    xx, yy : ndarray\n",
    "    \"\"\"\n",
    "    x_min, x_max = x.min() - 1, x.max() + 1\n",
    "    y_min, y_max = y.min() - 1, y.max() + 1\n",
    "    xx, yy = np.meshgrid(np.arange(x_min, x_max, h),\n",
    "                         np.arange(y_min, y_max, h))\n",
    "    return xx, yy\n",
    "\n",
    "\n",
    "def plot_contours(ax, clf, xx, yy, **params):\n",
    "    \"\"\"Plot the decision boundaries for a classifier.\n",
    "\n",
    "    Parameters\n",
    "    ----------\n",
    "    ax: matplotlib axes object\n",
    "    clf: a classifier\n",
    "    xx: meshgrid ndarray\n",
    "    yy: meshgrid ndarray\n",
    "    params: dictionary of params to pass to contourf, optional\n",
    "    \"\"\"\n",
    "    Z = clf.predict(np.c_[xx.ravel(), yy.ravel()])\n",
    "    Z = Z.reshape(xx.shape)\n",
    "    out = ax.contourf(xx, yy, Z, **params)\n",
    "    return out\n",
    "\n",
    "X = np.asarray(group_all)\n",
    "y = np.asarray(cat)\n",
    "\n",
    "# we create an instance of SVM and fit out data. We do not scale our\n",
    "# data since we want to plot the support vectors\n",
    "C = 1.0  # SVM regularization parameter\n",
    "models = (svm.SVC(kernel='linear', C=C),\n",
    "          svm.LinearSVC(C=C),\n",
    "          svm.SVC(kernel='rbf', gamma=0.7, C=C),\n",
    "          svm.SVC(kernel='poly', degree=3, C=C))\n",
    "models = (clf.fit(X, y) for clf in models)\n",
    "\n",
    "# title for the plots\n",
    "titles = ('SVC with linear kernel',\n",
    "          'LinearSVC (linear kernel)',\n",
    "          'SVC with RBF kernel',\n",
    "          'SVC with polynomial (degree 3) kernel')\n",
    "\n",
    "# Set-up 2x2 grid for plotting.\n",
    "fig, sub = plt.subplots(2, 2)\n",
    "plt.subplots_adjust(wspace=0.4, hspace=0.4)\n",
    "\n",
    "X0, X1 = X[:, 0], X[:, 1]\n",
    "xx, yy = make_meshgrid(X0, X1)\n",
    "\n",
    "for clf, title, ax in zip(models, titles, sub.flatten()):\n",
    "    plot_contours(ax, clf, xx, yy,\n",
    "                  cmap=plt.cm.coolwarm, alpha=0.8)\n",
    "    ax.scatter(X0, X1, c=y, cmap=plt.cm.coolwarm, s=20, edgecolors='k')\n",
    "    ax.set_xlim(xx.min(), xx.max())\n",
    "    ax.set_ylim(yy.min(), yy.max())\n",
    "    ax.set_xlabel('Sepal length')\n",
    "    ax.set_ylabel('Sepal width')\n",
    "    ax.set_xticks(())\n",
    "    ax.set_yticks(())\n",
    "    ax.set_title(title)\n",
    "\n",
    "plt.show()\n"
   ]
  },
  {
   "cell_type": "markdown",
   "metadata": {
    "pycharm": {
     "metadata": false,
     "name": "#%% md\n"
    }
   },
   "source": [
    "\n",
    "##### Linear kernel's coefficients for the SVM: "
   ]
  },
  {
   "cell_type": "code",
   "execution_count": 16,
   "metadata": {
    "pycharm": {
     "is_executing": false,
     "metadata": false,
     "name": "#%%\n"
    }
   },
   "outputs": [
    {
     "data": {
      "text/plain": [
       "array([[ 2.16945231, -2.37333565]])"
      ]
     },
     "execution_count": 16,
     "metadata": {},
     "output_type": "execute_result"
    }
   ],
   "source": [
    "clf._get_coef()"
   ]
  },
  {
   "cell_type": "markdown",
   "metadata": {
    "pycharm": {
     "is_executing": false,
     "metadata": false,
     "name": "#%%\n"
    }
   },
   "source": [
    "<a id=\"Q2\"></a>\n",
    "<div style=\"text-align: right\"> <a href=\"#Index\">Back to Index</a> </div>"
   ]
  },
  {
   "cell_type": "markdown",
   "metadata": {
    "pycharm": {
     "metadata": false,
     "name": "#%% md\n"
    }
   },
   "source": [
    "#### Question 2\n",
    "\n",
    "Given the two arrays X, Y\n",
    "\n",
    "X = [38.0, 23.0, 49.0, 10.0, 10.0, 44.0, 14.0, \n",
    "       16.0, 48.0, 16.0, 36.0, 50.0, 44.0, 34.0,\n",
    "       31.0, 33.0, 26.0, 9.0, 35.0, 43.0]\n",
    "\n",
    "Y = [4.5, 3.8, 13.2, 1.8, -0.2, 10.4, 1.1, 1.3,\n",
    "       12.5, 2.3, 7.5, 15.0, 8.9, 4.7,\n",
    "        5.7, 6.8, 3.4, 0.7, 5.6, 9.3]\n",
    "\n",
    "Please provide a model to estimate the target value Y given X\n",
    "\n"
   ]
  },
  {
   "cell_type": "markdown",
   "metadata": {
    "pycharm": {
     "metadata": false,
     "name": "#%% md\n"
    }
   },
   "source": [
    "#####  Rearranging the data - Data Preparation"
   ]
  },
  {
   "cell_type": "code",
   "execution_count": 17,
   "metadata": {
    "pycharm": {
     "is_executing": false,
     "metadata": false,
     "name": "#%%\n"
    }
   },
   "outputs": [],
   "source": [
    "#Loading the data\n",
    "X = [38.0, 23.0, 49.0, 10.0, 10.0, 44.0, 14.0, \n",
    "       16.0, 48.0, 16.0, 36.0, 50.0, 44.0, 34.0,\n",
    "       31.0, 33.0, 26.0, 9.0, 35.0, 43.0]\n",
    "\n",
    "Y = [4.5, 3.8, 13.2, 1.8, -0.2, 10.4, 1.1, 1.3,\n",
    "       12.5, 2.3, 7.5, 15.0, 8.9, 4.7,\n",
    "        5.7, 6.8, 3.4, 0.7, 5.6, 9.3]\n",
    "\n",
    "#Applying the pandas constructor to the data\n",
    "df1 = pd.DataFrame({'X':X, 'Y':Y})\n"
   ]
  },
  {
   "cell_type": "markdown",
   "metadata": {
    "pycharm": {}
   },
   "source": [
    "<a id=\"DS2\"></a>\n",
    "<div style=\"text-align: right\"> <a href=\"#Index\">Back to Index</a> </div>"
   ]
  },
  {
   "cell_type": "markdown",
   "metadata": {
    "pycharm": {
     "is_executing": false,
     "metadata": false,
     "name": "#%% md\n"
    }
   },
   "source": [
    "##### Descriptive Statistics and Visuals"
   ]
  },
  {
   "cell_type": "code",
   "execution_count": 18,
   "metadata": {
    "pycharm": {
     "is_executing": false,
     "metadata": false,
     "name": "#%%\n"
    }
   },
   "outputs": [
    {
     "data": {
      "text/html": [
       "<div>\n",
       "<style scoped>\n",
       "    .dataframe tbody tr th:only-of-type {\n",
       "        vertical-align: middle;\n",
       "    }\n",
       "\n",
       "    .dataframe tbody tr th {\n",
       "        vertical-align: top;\n",
       "    }\n",
       "\n",
       "    .dataframe thead th {\n",
       "        text-align: right;\n",
       "    }\n",
       "</style>\n",
       "<table border=\"1\" class=\"dataframe\">\n",
       "  <thead>\n",
       "    <tr style=\"text-align: right;\">\n",
       "      <th></th>\n",
       "      <th>X</th>\n",
       "      <th>Y</th>\n",
       "    </tr>\n",
       "  </thead>\n",
       "  <tbody>\n",
       "    <tr>\n",
       "      <th>count</th>\n",
       "      <td>20.000000</td>\n",
       "      <td>20.000000</td>\n",
       "    </tr>\n",
       "    <tr>\n",
       "      <th>mean</th>\n",
       "      <td>30.450000</td>\n",
       "      <td>5.915000</td>\n",
       "    </tr>\n",
       "    <tr>\n",
       "      <th>std</th>\n",
       "      <td>14.043073</td>\n",
       "      <td>4.449988</td>\n",
       "    </tr>\n",
       "    <tr>\n",
       "      <th>min</th>\n",
       "      <td>9.000000</td>\n",
       "      <td>-0.200000</td>\n",
       "    </tr>\n",
       "    <tr>\n",
       "      <th>25%</th>\n",
       "      <td>16.000000</td>\n",
       "      <td>2.175000</td>\n",
       "    </tr>\n",
       "    <tr>\n",
       "      <th>50%</th>\n",
       "      <td>33.500000</td>\n",
       "      <td>5.150000</td>\n",
       "    </tr>\n",
       "    <tr>\n",
       "      <th>75%</th>\n",
       "      <td>43.250000</td>\n",
       "      <td>9.000000</td>\n",
       "    </tr>\n",
       "    <tr>\n",
       "      <th>max</th>\n",
       "      <td>50.000000</td>\n",
       "      <td>15.000000</td>\n",
       "    </tr>\n",
       "  </tbody>\n",
       "</table>\n",
       "</div>"
      ],
      "text/plain": [
       "               X          Y\n",
       "count  20.000000  20.000000\n",
       "mean   30.450000   5.915000\n",
       "std    14.043073   4.449988\n",
       "min     9.000000  -0.200000\n",
       "25%    16.000000   2.175000\n",
       "50%    33.500000   5.150000\n",
       "75%    43.250000   9.000000\n",
       "max    50.000000  15.000000"
      ]
     },
     "execution_count": 18,
     "metadata": {},
     "output_type": "execute_result"
    }
   ],
   "source": [
    "df1.describe()"
   ]
  },
  {
   "cell_type": "code",
   "execution_count": 19,
   "metadata": {
    "pycharm": {
     "is_executing": false,
     "metadata": false,
     "name": "#%%\n"
    }
   },
   "outputs": [
    {
     "data": {
      "image/png": "[encoded data removed]",
      "text/plain": [
       "<Figure size 360x360 with 6 Axes>"
      ]
     },
     "metadata": {
      "needs_background": "light"
     },
     "output_type": "display_data"
    }
   ],
   "source": [
    "sns.pairplot(data=df1)\n",
    "None\n"
   ]
  },
  {
   "cell_type": "markdown",
   "metadata": {
    "pycharm": {
     "metadata": false,
     "name": "#%% md\n"
    }
   },
   "source": [
    "##### Notes:\n",
    "Target value: Y | Features: X\n",
    "\n",
    "The variables are not normally distributed. There's should be a linear correlation between X and Y, the relationship \n",
    "appears to be exponential. KS test and Pearson linear correlation test confirm these hypothesis.\n",
    "\n",
    "Any linear model should achieve good results in predicting Y given X.\n",
    "\n"
   ]
  },
  {
   "cell_type": "code",
   "execution_count": 20,
   "metadata": {
    "pycharm": {
     "is_executing": false,
     "metadata": false,
     "name": "#%%\n"
    }
   },
   "outputs": [
    {
     "name": "stdout",
     "output_type": "stream",
     "text": [
      "KstestResult(statistic=1.0, pvalue=0.0)\n",
      "KstestResult(statistic=0.7643339390536174, pvalue=1.0105049497222085e-12)\n"
     ]
    }
   ],
   "source": [
    "# Using KS test - Null Hypothesis: sample is normally distributed\n",
    "# for [p-value < .05 ] Null is rejected -> X and Y are not normally distributed \n",
    "print(stats.kstest(df1['X'], 'norm'))\n",
    "print(stats.kstest(df1['Y'], 'norm'))"
   ]
  },
  {
   "cell_type": "code",
   "execution_count": 21,
   "metadata": {
    "pycharm": {
     "is_executing": false,
     "metadata": false,
     "name": "#%%\n"
    }
   },
   "outputs": [
    {
     "name": "stdout",
     "output_type": "stream",
     "text": [
      "Pearson correlation coefficient: 0.937108378859011\n"
     ]
    }
   ],
   "source": [
    "print('Pearson correlation coefficient:', stats.pearsonr(df1['X'],df1['Y'])[0])\n"
   ]
  },
  {
   "cell_type": "markdown",
   "metadata": {
    "pycharm": {}
   },
   "source": [
    "<a id=\"FEPR\"></a>\n",
    "<div style=\"text-align: right\"> <a href=\"#Index\">Back to Index</a> </div>"
   ]
  },
  {
   "cell_type": "markdown",
   "metadata": {
    "pycharm": {
     "metadata": false,
     "name": "#%% md\n"
    }
   },
   "source": [
    "##### Feature Engineering\n",
    "\n",
    "Performing transformation operations on the feature X to build a polynomial model.\n",
    "The classic OLS estimator from scypy package will be used for the first model."
   ]
  },
  {
   "cell_type": "code",
   "execution_count": 22,
   "metadata": {
    "pycharm": {
     "is_executing": false,
     "metadata": false,
     "name": "#%%\n"
    }
   },
   "outputs": [],
   "source": [
    "#Using numpy to generate a squared column of X\n",
    "df1['X^2'] = np.power(df1['X'], 2)\n",
    "\n",
    "#Loading the data as np arrays for library compatibility\n",
    "X = df1['X'].values.reshape(-1,1)\n",
    "y = df1['Y'].values.reshape(-1,1)"
   ]
  },
  {
   "cell_type": "markdown",
   "metadata": {
    "pycharm": {
     "metadata": false,
     "name": "#%% md\n"
    }
   },
   "source": [
    "##### Modeling 1 - Scypy Polynomial Regression\n",
    "\n",
    "Using Scypy to implement the model. SSR, SST and coefficient of determination are coded manually.\n"
   ]
  },
  {
   "cell_type": "code",
   "execution_count": 23,
   "metadata": {
    "pycharm": {
     "is_executing": false,
     "metadata": false,
     "name": "#%%\n"
    }
   },
   "outputs": [
    {
     "name": "stdout",
     "output_type": "stream",
     "text": [
      "2nd Degree Polynomial model | R-Squared: 0.9413\n"
     ]
    },
    {
     "name": "stderr",
     "output_type": "stream",
     "text": [
      "/home/clemente/anaconda3/envs/galileo/lib/python3.7/site-packages/matplotlib/cbook/__init__.py:1725: UserWarning: Saw kwargs ['c', 'color'] which are all aliases for 'color'.  Kept value from 'color'\n",
      "  seen=seen, canon=canonical, used=seen[-1]))\n"
     ]
    },
    {
     "data": {
      "image/png": "[encoded data removed]",
      "text/plain": [
       "<Figure size 432x288 with 1 Axes>"
      ]
     },
     "metadata": {
      "needs_background": "light"
     },
     "output_type": "display_data"
    }
   ],
   "source": [
    "#Fitting a polinomial model for prediction\n",
    "z = np.polyfit(df1['X'].values, y, 2)\n",
    "#Using poly1d to apply polynomial\n",
    "f = np.poly1d(z.reshape(1,-1)[0])\n",
    "\n",
    "#Computing Predictions and Sum of Residuals squared and Total sum of squares\n",
    "y_mean = df1['Y'].mean()\n",
    "y_pred = []\n",
    "temp_res = 0\n",
    "y_tot = 0\n",
    "j = 0\n",
    "for i in df1['X']:\n",
    "    y_pred.append(f(i))\n",
    "    temp_res = ((f(i)-df1['Y'][j])**2) + temp_res\n",
    "    y_tot = ((df1['Y'][j]-y_mean)**2) + y_tot\n",
    "    j += 1\n",
    "\n",
    "#Computing R-Squared\n",
    "r_2 = 1 - (temp_res/y_tot )\n",
    "print('2nd Degree Polynomial model | R-Squared:', round(r_2,4))\n",
    "#Attaching predictions column to dataframe\n",
    "df1['y_pred'] = y_pred\n",
    "#Plotting Visuals\n",
    "sns.lineplot(data=df1, x='X',y='y_pred', c='orange').set_title('2nd Degree Polynomial model')\n",
    "sns.scatterplot(data=df1, x='X',y='Y')\n",
    "None"
   ]
  },
  {
   "cell_type": "markdown",
   "metadata": {
    "pycharm": {}
   },
   "source": [
    "<a id=\"M2\"></a>\n",
    "<div style=\"text-align: right\"> <a href=\"#Index\">Back to Index</a> </div>"
   ]
  },
  {
   "cell_type": "markdown",
   "metadata": {
    "pycharm": {
     "metadata": false
    }
   },
   "source": [
    "##### Modeling 2 - Scikit Learn Pipeline"
   ]
  },
  {
   "cell_type": "markdown",
   "metadata": {
    "pycharm": {
     "is_executing": false,
     "metadata": false,
     "name": "#%% md\n"
    }
   },
   "source": [
    "Setting up pipelines to test a set of models: Linear Regression (OLS), KNNregression, and\n",
    "RandomForestRegression. \n",
    "\n",
    "The data will be scaled and normalized before training.\n",
    "A Simple train-test split will be performed. Test size = 33%\n",
    "\n",
    "Accuracy scores are reported for each model at different training sample sizes, \n"
   ]
  },
  {
   "cell_type": "code",
   "execution_count": 24,
   "metadata": {
    "pycharm": {
     "is_executing": false,
     "metadata": false,
     "name": "#%%\n"
    }
   },
   "outputs": [],
   "source": [
    "#LinReg Pipeline\n",
    "pipe_lin = Pipeline([\n",
    "    ('Scaling', StandardScaler()),\n",
    "    ('LinReg', LinearRegression()),\n",
    "])\n",
    "#KNN Pipeline\n",
    "pipe_KNN = Pipeline([\n",
    "    ('Scale', StandardScaler()),\n",
    "    ('KNN', KNeighborsRegressor(n_neighbors=2)),\n",
    "])\n",
    "#Random Forest Regression Pipeline\n",
    "pipe_RFreg = Pipeline([\n",
    "    ('Scaling', StandardScaler()),\n",
    "    ('RFreg', RandomForestRegressor()),\n",
    "])\n",
    "\n"
   ]
  },
  {
   "cell_type": "code",
   "execution_count": 25,
   "metadata": {
    "pycharm": {
     "is_executing": false,
     "metadata": false,
     "name": "#%%\n"
    }
   },
   "outputs": [],
   "source": [
    "#Defining a function to run the pipelines and return the accuracy score.\n",
    "def run_pipe(pipe_name, X, y):\n",
    "    l = []\n",
    "    X_train, X_test, y_train, y_test = train_test_split(X, y, test_size=0.33)\n",
    "    pipe_name.fit(X_train, y_train)\n",
    "    \n",
    "    l.append(abs(y_test - pipe_name.predict(X_test)))\n",
    "    mas = (np.array(l).mean())\n",
    "\n",
    "    return (pipe_name.score(X ,y),mas) \n",
    "\n"
   ]
  },
  {
   "cell_type": "code",
   "execution_count": 26,
   "metadata": {
    "pycharm": {
     "is_executing": false,
     "metadata": false,
     "name": "#%%\n"
    }
   },
   "outputs": [
    {
     "name": "stdout",
     "output_type": "stream",
     "text": [
      "1 3\n",
      "2 5\n",
      "3 7\n",
      "4 9\n",
      "5 11\n",
      "6 13\n",
      "7 15\n",
      "8 17\n",
      "9 19\n",
      "Run Time:  0.31185191899976417\n"
     ]
    },
    {
     "name": "stderr",
     "output_type": "stream",
     "text": [
      "/home/clemente/anaconda3/envs/galileo/lib/python3.7/site-packages/sklearn/ensemble/forest.py:246: FutureWarning: The default value of n_estimators will change from 10 in version 0.20 to 100 in 0.22.\n",
      "  \"10 in version 0.20 to 100 in 0.22.\", FutureWarning)\n",
      "/home/clemente/anaconda3/envs/galileo/lib/python3.7/site-packages/sklearn/pipeline.py:267: DataConversionWarning: A column-vector y was passed when a 1d array was expected. Please change the shape of y to (n_samples,), for example using ravel().\n",
      "  self._final_estimator.fit(Xt, y, **fit_params)\n",
      "/home/clemente/anaconda3/envs/galileo/lib/python3.7/site-packages/sklearn/pipeline.py:267: DataConversionWarning: A column-vector y was passed when a 1d array was expected. Please change the shape of y to (n_samples,), for example using ravel().\n",
      "  self._final_estimator.fit(Xt, y, **fit_params)\n",
      "/home/clemente/anaconda3/envs/galileo/lib/python3.7/site-packages/sklearn/pipeline.py:267: DataConversionWarning: A column-vector y was passed when a 1d array was expected. Please change the shape of y to (n_samples,), for example using ravel().\n",
      "  self._final_estimator.fit(Xt, y, **fit_params)\n",
      "/home/clemente/anaconda3/envs/galileo/lib/python3.7/site-packages/sklearn/pipeline.py:267: DataConversionWarning: A column-vector y was passed when a 1d array was expected. Please change the shape of y to (n_samples,), for example using ravel().\n",
      "  self._final_estimator.fit(Xt, y, **fit_params)\n",
      "/home/clemente/anaconda3/envs/galileo/lib/python3.7/site-packages/sklearn/pipeline.py:267: DataConversionWarning: A column-vector y was passed when a 1d array was expected. Please change the shape of y to (n_samples,), for example using ravel().\n",
      "  self._final_estimator.fit(Xt, y, **fit_params)\n",
      "/home/clemente/anaconda3/envs/galileo/lib/python3.7/site-packages/sklearn/pipeline.py:267: DataConversionWarning: A column-vector y was passed when a 1d array was expected. Please change the shape of y to (n_samples,), for example using ravel().\n",
      "  self._final_estimator.fit(Xt, y, **fit_params)\n",
      "/home/clemente/anaconda3/envs/galileo/lib/python3.7/site-packages/sklearn/pipeline.py:267: DataConversionWarning: A column-vector y was passed when a 1d array was expected. Please change the shape of y to (n_samples,), for example using ravel().\n",
      "  self._final_estimator.fit(Xt, y, **fit_params)\n",
      "/home/clemente/anaconda3/envs/galileo/lib/python3.7/site-packages/sklearn/pipeline.py:267: DataConversionWarning: A column-vector y was passed when a 1d array was expected. Please change the shape of y to (n_samples,), for example using ravel().\n",
      "  self._final_estimator.fit(Xt, y, **fit_params)\n",
      "/home/clemente/anaconda3/envs/galileo/lib/python3.7/site-packages/sklearn/pipeline.py:267: DataConversionWarning: A column-vector y was passed when a 1d array was expected. Please change the shape of y to (n_samples,), for example using ravel().\n",
      "  self._final_estimator.fit(Xt, y, **fit_params)\n"
     ]
    }
   ],
   "source": [
    "#Benchmarking Model Consistency wrt sample size\n",
    "start = timeit.default_timer()\n",
    "#Declaring holder variables\n",
    "l_lin = []\n",
    "l_KNN = []\n",
    "l_RFreg = []\n",
    "l_lin_res = []\n",
    "l_KNN_res = []\n",
    "l_RFreg_res = []\n",
    "l_X = []\n",
    "counter = 1\n",
    "#Looping over pipelines, feeding different sample sizes\n",
    "for n in range(3,len(X),2):\n",
    "    \n",
    "    X1 = X[:n]\n",
    "    y1 = y[:n]\n",
    "\n",
    "    #l_lin.append(run_pipe(pipe_lin, X1, y1)[0])\n",
    "    #l_KNN.append(run_pipe( pipe_KNN, X1, y1)[0])\n",
    "    #l_RFreg.append(run_pipe(pipe_RFreg, X1, y1)[0])\n",
    "    \n",
    "    #Running pipelines once per sample. Storing results to temp variables\n",
    "    temp_lin = run_pipe(pipe_lin, X1, y1)\n",
    "    temp_KNN = run_pipe( pipe_KNN, X1, y1)\n",
    "    temp_RFreg = run_pipe(pipe_RFreg, X1, y1)\n",
    "    \n",
    "    #Appending results\n",
    "    l_lin.append(temp_lin[0])\n",
    "    l_KNN.append(temp_KNN[0])\n",
    "    l_RFreg.append(temp_RFreg[0])\n",
    "    l_lin_res.append(temp_lin[1])\n",
    "    l_KNN_res.append(temp_KNN[1])\n",
    "    l_RFreg_res.append(temp_RFreg[1])\n",
    "    \n",
    "    #Checks\n",
    "    l_X.append(len(X1))\n",
    "    print(counter, len(X1))\n",
    "    counter += 1\n",
    "\n",
    "\n",
    "stop = timeit.default_timer()\n",
    "\n",
    "print('Run Time: ', stop - start)"
   ]
  },
  {
   "cell_type": "code",
   "execution_count": 27,
   "metadata": {
    "pycharm": {
     "is_executing": false,
     "metadata": false,
     "name": "#%%\n"
    }
   },
   "outputs": [],
   "source": [
    "\n",
    "#Repacking the data to dictionary and then dataframes for melting and plotting\n",
    "d = {\n",
    "    'OLS score': l_lin,\n",
    "    'KNN score': l_KNN,\n",
    "    'RF score': l_RFreg,\n",
    "    'n': l_X,\n",
    "    'OLS MAE': l_lin_res,\n",
    "    'KNN MAE': l_KNN_res,\n",
    "    'RFreg MAE': l_RFreg_res\n",
    "    }\n",
    "\n",
    "df_r1 = pd.DataFrame(d)\n",
    "#df_r2 = pd.DataFrame(d)"
   ]
  },
  {
   "cell_type": "markdown",
   "metadata": {
    "pycharm": {}
   },
   "source": [
    "<a id=\"RES\"></a>\n",
    "<div style=\"text-align: right\"> <a href=\"#Index\">Back to Index</a> </div>"
   ]
  },
  {
   "cell_type": "markdown",
   "metadata": {
    "pycharm": {
     "metadata": false,
     "name": "#%% md\n"
    }
   },
   "source": [
    "##### Models Results - Benchmarks and visuals\n",
    "\n",
    "n: sample size, MAE = mean absolute error wrt to actual values\n"
   ]
  },
  {
   "cell_type": "code",
   "execution_count": 28,
   "metadata": {
    "pycharm": {
     "is_executing": false,
     "metadata": false,
     "name": "#%%\n"
    }
   },
   "outputs": [
    {
     "data": {
      "text/html": [
       "<div>\n",
       "<style scoped>\n",
       "    .dataframe tbody tr th:only-of-type {\n",
       "        vertical-align: middle;\n",
       "    }\n",
       "\n",
       "    .dataframe tbody tr th {\n",
       "        vertical-align: top;\n",
       "    }\n",
       "\n",
       "    .dataframe thead th {\n",
       "        text-align: right;\n",
       "    }\n",
       "</style>\n",
       "<table border=\"1\" class=\"dataframe\">\n",
       "  <thead>\n",
       "    <tr style=\"text-align: right;\">\n",
       "      <th></th>\n",
       "      <th>OLS score</th>\n",
       "      <th>KNN score</th>\n",
       "      <th>RF score</th>\n",
       "      <th>n</th>\n",
       "      <th>OLS MAE</th>\n",
       "      <th>KNN MAE</th>\n",
       "      <th>RFreg MAE</th>\n",
       "    </tr>\n",
       "  </thead>\n",
       "  <tbody>\n",
       "    <tr>\n",
       "      <th>0</th>\n",
       "      <td>0.593276</td>\n",
       "      <td>-0.154993</td>\n",
       "      <td>-0.371803</td>\n",
       "      <td>3</td>\n",
       "      <td>4.723077</td>\n",
       "      <td>5.050000</td>\n",
       "      <td>7.760000</td>\n",
       "    </tr>\n",
       "    <tr>\n",
       "      <th>1</th>\n",
       "      <td>0.729889</td>\n",
       "      <td>0.146585</td>\n",
       "      <td>0.557421</td>\n",
       "      <td>5</td>\n",
       "      <td>3.109341</td>\n",
       "      <td>4.525000</td>\n",
       "      <td>5.090000</td>\n",
       "    </tr>\n",
       "    <tr>\n",
       "      <th>2</th>\n",
       "      <td>0.846425</td>\n",
       "      <td>0.691214</td>\n",
       "      <td>0.701177</td>\n",
       "      <td>7</td>\n",
       "      <td>1.325114</td>\n",
       "      <td>2.516667</td>\n",
       "      <td>5.822222</td>\n",
       "    </tr>\n",
       "    <tr>\n",
       "      <th>3</th>\n",
       "      <td>0.889167</td>\n",
       "      <td>0.755731</td>\n",
       "      <td>0.625116</td>\n",
       "      <td>9</td>\n",
       "      <td>1.074547</td>\n",
       "      <td>2.983333</td>\n",
       "      <td>6.025556</td>\n",
       "    </tr>\n",
       "    <tr>\n",
       "      <th>4</th>\n",
       "      <td>0.894318</td>\n",
       "      <td>0.935165</td>\n",
       "      <td>0.676568</td>\n",
       "      <td>11</td>\n",
       "      <td>1.194612</td>\n",
       "      <td>0.612500</td>\n",
       "      <td>5.780000</td>\n",
       "    </tr>\n",
       "    <tr>\n",
       "      <th>5</th>\n",
       "      <td>0.880028</td>\n",
       "      <td>0.890307</td>\n",
       "      <td>0.820350</td>\n",
       "      <td>13</td>\n",
       "      <td>2.105201</td>\n",
       "      <td>2.020000</td>\n",
       "      <td>5.668467</td>\n",
       "    </tr>\n",
       "    <tr>\n",
       "      <th>6</th>\n",
       "      <td>0.870600</td>\n",
       "      <td>0.935898</td>\n",
       "      <td>0.876212</td>\n",
       "      <td>15</td>\n",
       "      <td>1.611450</td>\n",
       "      <td>1.200000</td>\n",
       "      <td>4.377867</td>\n",
       "    </tr>\n",
       "    <tr>\n",
       "      <th>7</th>\n",
       "      <td>0.821429</td>\n",
       "      <td>0.906271</td>\n",
       "      <td>0.944497</td>\n",
       "      <td>17</td>\n",
       "      <td>2.251066</td>\n",
       "      <td>1.625000</td>\n",
       "      <td>4.786296</td>\n",
       "    </tr>\n",
       "    <tr>\n",
       "      <th>8</th>\n",
       "      <td>0.865805</td>\n",
       "      <td>0.893872</td>\n",
       "      <td>0.903077</td>\n",
       "      <td>19</td>\n",
       "      <td>1.300807</td>\n",
       "      <td>1.985714</td>\n",
       "      <td>3.572449</td>\n",
       "    </tr>\n",
       "  </tbody>\n",
       "</table>\n",
       "</div>"
      ],
      "text/plain": [
       "   OLS score  KNN score  RF score   n   OLS MAE   KNN MAE  RFreg MAE\n",
       "0   0.593276  -0.154993 -0.371803   3  4.723077  5.050000   7.760000\n",
       "1   0.729889   0.146585  0.557421   5  3.109341  4.525000   5.090000\n",
       "2   0.846425   0.691214  0.701177   7  1.325114  2.516667   5.822222\n",
       "3   0.889167   0.755731  0.625116   9  1.074547  2.983333   6.025556\n",
       "4   0.894318   0.935165  0.676568  11  1.194612  0.612500   5.780000\n",
       "5   0.880028   0.890307  0.820350  13  2.105201  2.020000   5.668467\n",
       "6   0.870600   0.935898  0.876212  15  1.611450  1.200000   4.377867\n",
       "7   0.821429   0.906271  0.944497  17  2.251066  1.625000   4.786296\n",
       "8   0.865805   0.893872  0.903077  19  1.300807  1.985714   3.572449"
      ]
     },
     "execution_count": 28,
     "metadata": {},
     "output_type": "execute_result"
    }
   ],
   "source": [
    "df_r1"
   ]
  },
  {
   "cell_type": "code",
   "execution_count": 29,
   "metadata": {
    "pycharm": {
     "is_executing": false,
     "metadata": false,
     "name": "#%%\n"
    }
   },
   "outputs": [],
   "source": [
    "df_m1 = pd.melt(df_r1, value_vars=['OLS score','KNN score', 'RF score'], id_vars=['n'])"
   ]
  },
  {
   "cell_type": "code",
   "execution_count": 30,
   "metadata": {
    "pycharm": {
     "is_executing": false,
     "metadata": false,
     "name": "#%%\n"
    }
   },
   "outputs": [],
   "source": [
    "df_m1 = df_m1.rename(columns={'variable':'model','values':'accuracy'})"
   ]
  },
  {
   "cell_type": "code",
   "execution_count": 31,
   "metadata": {
    "pycharm": {
     "is_executing": false,
     "metadata": false,
     "name": "#%%\n"
    }
   },
   "outputs": [
    {
     "data": {
      "text/plain": [
       "Text(0.5, 1.0, 'Sample Consistency Benchmark - Model Accuracy VS Sample Size')"
      ]
     },
     "execution_count": 31,
     "metadata": {},
     "output_type": "execute_result"
    },
    {
     "data": {
      "image/png": "[encoded data removed]",
      "text/plain": [
       "<Figure size 842.4x595.44 with 1 Axes>"
      ]
     },
     "metadata": {},
     "output_type": "display_data"
    }
   ],
   "source": [
    "sns.set(rc={'figure.figsize':(11.7,8.27)})\n",
    "sns.lineplot(data=df_m1,y='value',x='n',hue='model').set_title('Sample Consistency Benchmark - Model Accuracy VS Sample Size')"
   ]
  },
  {
   "cell_type": "code",
   "execution_count": 32,
   "metadata": {
    "pycharm": {
     "is_executing": false,
     "metadata": false,
     "name": "#%%\n"
    }
   },
   "outputs": [],
   "source": [
    "df_m2 = pd.melt(df_r1, value_vars=['OLS MAE','KNN MAE', 'RFreg MAE'], id_vars=['n'])"
   ]
  },
  {
   "cell_type": "code",
   "execution_count": 33,
   "metadata": {
    "pycharm": {
     "is_executing": false,
     "metadata": false,
     "name": "#%%\n"
    }
   },
   "outputs": [],
   "source": [
    "df_m2 = df_m2.rename(columns={'variable':'model','values':'MAE'})"
   ]
  },
  {
   "cell_type": "code",
   "execution_count": 34,
   "metadata": {
    "pycharm": {
     "is_executing": false,
     "metadata": false,
     "name": "#%%\n"
    }
   },
   "outputs": [
    {
     "data": {
      "text/plain": [
       "Text(0.5, 1.0, 'Sample Consistency Benchmark - Model MAE VS Sample Size')"
      ]
     },
     "execution_count": 34,
     "metadata": {},
     "output_type": "execute_result"
    },
    {
     "data": {
      "image/png": "[encoded data removed]",
      "text/plain": [
       "<Figure size 842.4x595.44 with 1 Axes>"
      ]
     },
     "metadata": {},
     "output_type": "display_data"
    }
   ],
   "source": [
    "sns.barplot(data=df_m2, x='value', y='n',hue='model', orient='h').set_title('Sample Consistency Benchmark - Model MAE VS Sample Size')\n"
   ]
  },
  {
   "cell_type": "markdown",
   "metadata": {
    "pycharm": {}
   },
   "source": [
    "<a id=\"CNC\"></a>\n",
    "<div style=\"text-align: right\"> <a href=\"#Index\">Back to Index</a> </div>"
   ]
  },
  {
   "cell_type": "markdown",
   "metadata": {
    "pycharm": {
     "metadata": false,
     "name": "#%% md\n"
    }
   },
   "source": [
    "##### Conclusions:\n",
    "\n",
    "The benchmark results show how OLS Models performs better than KNN and RF ones for smaller sample sizes.\n",
    "OLS consistency lineplot presents less variability than the other model. MAE are also lower for all sample sizes. \n"
   ]
  },
  {
   "cell_type": "code",
   "execution_count": null,
   "metadata": {
    "pycharm": {}
   },
   "outputs": [],
   "source": []
  },
  {
   "cell_type": "code",
   "execution_count": null,
   "metadata": {
    "pycharm": {}
   },
   "outputs": [],
   "source": []
  }
 ],
 "metadata": {
  "kernelspec": {
   "display_name": "PyCharm (Data_Challange)",
   "language": "python",
   "name": "pycharm-cf91eb7c"
  },
  "language_info": {
   "codemirror_mode": {
    "name": "ipython",
    "version": 3
   },
   "file_extension": ".py",
   "mimetype": "text/x-python",
   "name": "python",
   "nbconvert_exporter": "python",
   "pygments_lexer": "ipython3",
   "version": "3.7.3"
  }
 },
 "nbformat": 4,
 "nbformat_minor": 1
}
